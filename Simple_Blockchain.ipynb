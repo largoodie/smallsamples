{
  "nbformat": 4,
  "nbformat_minor": 0,
  "metadata": {
    "colab": {
      "name": "Simple Blockchain.ipynb",
      "provenance": [],
      "collapsed_sections": []
    },
    "kernelspec": {
      "name": "python3",
      "display_name": "Python 3"
    },
    "language_info": {
      "name": "python"
    }
  },
  "cells": [
    {
      "cell_type": "code",
      "source": [
        "#Simple Blockchain Example"
      ],
      "metadata": {
        "id": "-Hx8HPQkIljj"
      },
      "execution_count": null,
      "outputs": []
    },
    {
      "cell_type": "code",
      "source": [
        "import hashlib\n",
        "import datetime\n",
        "import random\n",
        "import numpy\n",
        "import matplotlib\n",
        "#import ipyparallel"
      ],
      "metadata": {
        "id": "mWwLwzCCFqwx",
        "colab": {
          "base_uri": "https://localhost:8080/",
          "height": 340
        },
        "outputId": "369e11b1-45c1-4476-c037-7e2e6c07a391"
      },
      "execution_count": 1,
      "outputs": [
        {
          "output_type": "error",
          "ename": "ModuleNotFoundError",
          "evalue": "ignored",
          "traceback": [
            "\u001b[0;31m---------------------------------------------------------------------------\u001b[0m",
            "\u001b[0;31mModuleNotFoundError\u001b[0m                       Traceback (most recent call last)",
            "\u001b[0;32m<ipython-input-1-4acfb82e2103>\u001b[0m in \u001b[0;36m<module>\u001b[0;34m()\u001b[0m\n\u001b[1;32m      4\u001b[0m \u001b[0;32mimport\u001b[0m \u001b[0mnumpy\u001b[0m\u001b[0;34m\u001b[0m\u001b[0;34m\u001b[0m\u001b[0m\n\u001b[1;32m      5\u001b[0m \u001b[0;32mimport\u001b[0m \u001b[0mmatplotlib\u001b[0m\u001b[0;34m\u001b[0m\u001b[0;34m\u001b[0m\u001b[0m\n\u001b[0;32m----> 6\u001b[0;31m \u001b[0;32mimport\u001b[0m \u001b[0mipyparallel\u001b[0m\u001b[0;34m\u001b[0m\u001b[0;34m\u001b[0m\u001b[0m\n\u001b[0m",
            "\u001b[0;31mModuleNotFoundError\u001b[0m: No module named 'ipyparallel'",
            "",
            "\u001b[0;31m---------------------------------------------------------------------------\u001b[0;32m\nNOTE: If your import is failing due to a missing package, you can\nmanually install dependencies using either !pip or !apt.\n\nTo view examples of installing some common dependencies, click the\n\"Open Examples\" button below.\n\u001b[0;31m---------------------------------------------------------------------------\u001b[0m\n"
          ],
          "errorDetails": {
            "actions": [
              {
                "action": "open_url",
                "actionText": "Open Examples",
                "url": "/notebooks/snippets/importing_libraries.ipynb"
              }
            ]
          }
        }
      ]
    },
    {
      "cell_type": "code",
      "source": [
        "#A blockchain is essentially an immutable chain of \"blocks\", each of which contain certain key attributes that store useful information, link to previous \n",
        "#blocks, and have a unique hash. This program was something I created to try to better understand the basics behind blockchain technology and how it\n",
        "#can be a useful way to safely store data."
      ],
      "metadata": {
        "id": "aUNphHm3eOXv"
      },
      "execution_count": null,
      "outputs": []
    },
    {
      "cell_type": "code",
      "source": [
        "#Creating Block Class\n",
        "\n",
        "#Notice that each block has a timestamp of when it is created, data, and a link to the previous block. Additionally, since blocks are identified by their\n",
        "#unique hashes, we need a function that generates a hash for a block based on the data it is given\n",
        "class Block:\n",
        "  def __init__(self, index,timestamp,data,previous_hash,nonce=0):\n",
        "    self.index=index\n",
        "    if timestamp==0:\n",
        "      self.timestamp=datetime.datetime.now()\n",
        "    else:\n",
        "      self.timestamp=timestamp\n",
        "    self.data=data\n",
        "    self.previous_hash=previous_hash\n",
        "    self.nonce=nonce\n",
        "    self.hash=self.blockHash()\n",
        "  \n",
        "  #Hashing function\n",
        "  def blockHash(self):\n",
        "    long_str=(str(self.index)+str(self.timestamp)+str(self.data)+str(self.previous_hash)+str(self.nonce)).encode('utf-8')\n",
        "    hash=hashlib.sha256(long_str).hexdigest()\n",
        "    return hash\n",
        "  "
      ],
      "metadata": {
        "id": "IKSbQfoRFvhn"
      },
      "execution_count": 2,
      "outputs": []
    },
    {
      "cell_type": "code",
      "source": [
        "#Creating genesis block function\n",
        "\n",
        "#All blockchains start with a genesis block. This function creates a genesis block.\n",
        "def genesis_block():\n",
        "  block_0=Block(index=0,timestamp=0,data='Genesis Block',previous_hash=0)\n",
        "  return block_0\n",
        "\n",
        "#Creating new block function\n",
        "\n",
        "#This function generates a new block given a previous block. We can call this multiple times to crate a chain of blocks (blockchain)\n",
        "def next_block(Last_block):\n",
        "  index=Last_block.index+1\n",
        "  timestamp=0\n",
        "  data=f'Block {index} generated'\n",
        "  previous_hash=Last_block.hash\n",
        "  new_block=Block(index=index,timestamp=timestamp,data=data,previous_hash=previous_hash)\n",
        "  return new_block\n"
      ],
      "metadata": {
        "id": "C6g5JXYuqT2-"
      },
      "execution_count": 3,
      "outputs": []
    },
    {
      "cell_type": "code",
      "source": [
        "#Running genesis block function\n",
        "block_0=genesis_block()"
      ],
      "metadata": {
        "id": "_4xZuwz6zZ4w"
      },
      "execution_count": 4,
      "outputs": []
    },
    {
      "cell_type": "code",
      "source": [
        "#Creating function that creates a genesis block and stores it in a list. This list will contain our entire blockchain once we create a loop using \n",
        "#the next_block function created above\n",
        "def create_blockchain():\n",
        "  block_0=genesis_block()\n",
        "  return [block_0]\n",
        "\n",
        "def previous_block(blockchain):\n",
        "  return blockchain[0]"
      ],
      "metadata": {
        "id": "imd929l_0-r5"
      },
      "execution_count": 5,
      "outputs": []
    },
    {
      "cell_type": "code",
      "source": [
        "#Creating function to create list of blocks that contain information about previous blocks (a blockchain)\n",
        "\n",
        "def complete_chain(num_blocks,blockchain,previous_block):\n",
        "  #Here, we are essentailly looping through the number of blocks we want to create and creating a new block on each iteration\n",
        "  for i in range(num_blocks):\n",
        "    new_block=next_block(previous_block)\n",
        "    blockchain.append(new_block)\n",
        "    #print(blockchain)\n",
        "    previous_block=new_block\n",
        "    print(f'Block #{new_block.index} has been added to the blockchain')\n",
        "    print(f'Hash: {new_block.hash}')\n",
        "  return blockchain\n",
        "\n"
      ],
      "metadata": {
        "id": "uX0zwDRC36nX"
      },
      "execution_count": 6,
      "outputs": []
    },
    {
      "cell_type": "code",
      "source": [
        "#Creating blockchain for real and printing hashes for each block\n",
        "start_chain=create_blockchain()\n",
        "a=complete_chain(10,start_chain,start_chain[0])"
      ],
      "metadata": {
        "colab": {
          "base_uri": "https://localhost:8080/"
        },
        "id": "sapeXl0m5XXD",
        "outputId": "c64341cd-741e-430b-bb27-9e056029d51e"
      },
      "execution_count": 7,
      "outputs": [
        {
          "output_type": "stream",
          "name": "stdout",
          "text": [
            "Block #1 has been added to the blockchain\n",
            "Hash: 4b10ef6bf164274923818c18881ef122453d206461b1100e02a373ec6ac24a82\n",
            "Block #2 has been added to the blockchain\n",
            "Hash: 5b585d43df5dc0ddc453f71314308c7f629f04b75f285ba4fe6ba1985de592db\n",
            "Block #3 has been added to the blockchain\n",
            "Hash: 72c670be74f141064e3b3be81ffd2462716763ba86b43e0d72f55d72ba49d422\n",
            "Block #4 has been added to the blockchain\n",
            "Hash: 571db73c23cfa2b965052423bb9613b5b2a6ff4d55fb731d8982d23905d1e0e6\n",
            "Block #5 has been added to the blockchain\n",
            "Hash: 519f1a009fa3ceef11d14e310b9c3eff9eb501f019dc08b65d3c2fa0841cd20c\n",
            "Block #6 has been added to the blockchain\n",
            "Hash: 294ace41403be44c68e909849b41863e16d106849348359a7d64e087787e648b\n",
            "Block #7 has been added to the blockchain\n",
            "Hash: 82b9f89ec711f0429c53d913ee0018bc814b83f6ce3195d97610f20f4bb57d5b\n",
            "Block #8 has been added to the blockchain\n",
            "Hash: 79ed4d99df4a04f7cac059d5556a5e535349776a304851b6b5fbf37e9524e541\n",
            "Block #9 has been added to the blockchain\n",
            "Hash: fe88357ac442dffe138d10f96b82a0238f23db3d78de55f6b4b8b86db3497719\n",
            "Block #10 has been added to the blockchain\n",
            "Hash: 54d4f7c2b46f0bf1fa55dddf88ef04e6b2a3aee79cebb291b3d9701abe0eeb38\n"
          ]
        }
      ]
    },
    {
      "cell_type": "code",
      "source": [
        "#Next, I plan to do a similar simulation for Proof of Work, a fundamental concept in the Bitcoin blockchain (and many others)"
      ],
      "metadata": {
        "id": "YsZfCWj5hE1x"
      },
      "execution_count": null,
      "outputs": []
    }
  ]
}